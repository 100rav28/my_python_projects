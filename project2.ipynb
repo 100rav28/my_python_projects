{
 "cells": [
  {
   "cell_type": "code",
   "execution_count": 17,
   "id": "f19c3c9d-a962-4f17-897e-8e4a3b69d20f",
   "metadata": {},
   "outputs": [
    {
     "name": "stdin",
     "output_type": "stream",
     "text": [
      "number :  10\n",
      "number :  20\n",
      "sign:  +\n"
     ]
    },
    {
     "name": "stdout",
     "output_type": "stream",
     "text": [
      "30.0\n"
     ]
    }
   ],
   "source": [
    "def get_number():\n",
    "    while True:\n",
    "        operand=input(\"number : \")\n",
    "        try:\n",
    "            return float(operand)\n",
    "\n",
    "        except:\n",
    "            print(\"invalid number,try again.\")\n",
    "        \n",
    "            \n",
    "        \n",
    "\n",
    "       \n",
    "    \n",
    "\n",
    "operand1=get_number()\n",
    "operand2=get_number()\n",
    "        \n",
    "sign=input(\"sign: \")\n",
    "    \n",
    "    \n",
    "result=0\n",
    "if sign==\"+\":\n",
    "    result=operand1+operand2\n",
    "\n",
    "elif sign==\"-\":\n",
    "    result=operand1-operand2\n",
    "\n",
    "elif sign== \"/\":\n",
    "    if operand2!=0:\n",
    "        result=operand1/operand2\n",
    "    else:\n",
    "        print(\"division by zero\")\n",
    "\n",
    "elif sign==\"*\":\n",
    "    result=operand1*operand2\n",
    "\n",
    "print(result) \n",
    "\n",
    "\n",
    "\n",
    "    "
   ]
  },
  {
   "cell_type": "raw",
   "id": "712ed827-0cb2-40c0-a343-04fec0fe9b48",
   "metadata": {},
   "source": []
  }
 ],
 "metadata": {
  "kernelspec": {
   "display_name": "Python 3 (ipykernel)",
   "language": "python",
   "name": "python3"
  },
  "language_info": {
   "codemirror_mode": {
    "name": "ipython",
    "version": 3
   },
   "file_extension": ".py",
   "mimetype": "text/x-python",
   "name": "python",
   "nbconvert_exporter": "python",
   "pygments_lexer": "ipython3",
   "version": "3.11.7"
  }
 },
 "nbformat": 4,
 "nbformat_minor": 5
}
