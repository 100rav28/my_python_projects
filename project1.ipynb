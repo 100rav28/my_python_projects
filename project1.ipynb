{
 "cells": [
  {
   "cell_type": "code",
   "execution_count": 24,
   "id": "4fe4a9b0-03e4-42ec-9d81-2afa9ff0212d",
   "metadata": {},
   "outputs": [
    {
     "name": "stdin",
     "output_type": "stream",
     "text": [
      "hey type your name:  sau\n"
     ]
    },
    {
     "name": "stdout",
     "output_type": "stream",
     "text": [
      "hello sau welcome to my game!\n"
     ]
    },
    {
     "name": "stdin",
     "output_type": "stream",
     "text": [
      "do you want to play?  yes\n"
     ]
    },
    {
     "name": "stdout",
     "output_type": "stream",
     "text": [
      "we are gonna play!\n"
     ]
    },
    {
     "name": "stdin",
     "output_type": "stream",
     "text": [
      "do you want to go left or right?  left\n"
     ]
    },
    {
     "name": "stdout",
     "output_type": "stream",
     "text": [
      "okay we went left of a cliff,game over,try again.\n"
     ]
    }
   ],
   "source": [
    "name =input(\"hey type your name: \")\n",
    "print(\"hello \" + name + \" welcome to my game!\")\n",
    "\n",
    "should_we_play =input(\"do you want to play? \").lower()\n",
    "#play=should_we_play==\"yes\"\n",
    "#print(play)\n",
    "#should_we_play==\"yes\" or should_we_play='y' \n",
    "\n",
    "if should_we_play==\"yes\" or should_we_play==\"y\":\n",
    "    print(\"we are gonna play!\")\n",
    "    direction=input(\"do you want to go left or right? \").lower()\n",
    "    if direction==\"left\":\n",
    "        print(\"okay we went left of a cliff,game over,try again.\")\n",
    "\n",
    "    elif direction==\"right\":\n",
    "        choice=input(\"okay, you now see a bridge, do you want to swim under it or cross it?\")\n",
    "        if choice==\"swim\":\n",
    "            print(\"you got eaten by an alligator,you die,the end!\")\n",
    "\n",
    "        else:\n",
    "            print(\"you found the gold and won!\")\n",
    "    \n",
    "\n",
    "    else:\n",
    "        print(\"sorry not a valid reply,you die!\")\n",
    "        \n",
    "        \n",
    "    \n",
    "else:\n",
    "    print(\"we are not playing\")\n",
    "\n",
    "\n",
    "\n",
    "\n",
    "\n"
   ]
  },
  {
   "cell_type": "code",
   "execution_count": null,
   "id": "0e8f4097-571d-4db7-b843-3b51e6b5c6c8",
   "metadata": {},
   "outputs": [],
   "source": []
  },
  {
   "cell_type": "code",
   "execution_count": null,
   "id": "f6a5f4a1-0f59-457b-a4d2-ea118339a2f3",
   "metadata": {},
   "outputs": [],
   "source": []
  }
 ],
 "metadata": {
  "kernelspec": {
   "display_name": "Python 3 (ipykernel)",
   "language": "python",
   "name": "python3"
  },
  "language_info": {
   "codemirror_mode": {
    "name": "ipython",
    "version": 3
   },
   "file_extension": ".py",
   "mimetype": "text/x-python",
   "name": "python",
   "nbconvert_exporter": "python",
   "pygments_lexer": "ipython3",
   "version": "3.11.7"
  }
 },
 "nbformat": 4,
 "nbformat_minor": 5
}
