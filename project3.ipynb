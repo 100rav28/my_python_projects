{
 "cells": [
  {
   "cell_type": "code",
   "execution_count": 29,
   "id": "f2e9f373-233a-4028-a7fb-786a5e108c79",
   "metadata": {},
   "outputs": [
    {
     "name": "stdout",
     "output_type": "stream",
     "text": [
      "Hi, welcome to the Contact Management System.\n",
      "\n"
     ]
    },
    {
     "name": "stdin",
     "output_type": "stream",
     "text": [
      "You can 'add', 'delete', 'search', or 'q' to quit:  q\n"
     ]
    },
    {
     "name": "stdout",
     "output_type": "stream",
     "text": [
      "\n",
      "Final contact list:\n",
      "[]\n"
     ]
    }
   ],
   "source": [
    "\n",
    "import json\n",
    "people = []\n",
    "\n",
    "def add_person():\n",
    "    name = input(\"Name: \")\n",
    "    age = input(\"Age: \")\n",
    "    email = input(\"Email: \")\n",
    "    person = {\"name\": name, \"age\": age, \"email\": email}\n",
    "    return person\n",
    "\n",
    "def delete_contact(people):\n",
    "    for i, person in enumerate(people):\n",
    "        print(i + 1, \"-\", person[\"name\"], person[\"age\"], person[\"email\"])\n",
    "\n",
    "    while True:\n",
    "        number = input(\"Enter the number of the person to delete: \")\n",
    "        try:\n",
    "            number = int(number)\n",
    "            if number <= 0 or number > len(people):\n",
    "                print(\"Invalid number: out of range.\")\n",
    "            else:\n",
    "                break\n",
    "        except ValueError:\n",
    "            print(\"Invalid number: please enter a valid integer.\")\n",
    "\n",
    "    people.pop(number - 1)\n",
    "    print(\"Person deleted!\")\n",
    "\n",
    "def search(people):\n",
    "    name=input(\"search for a anme: \")\n",
    "    results=[]\n",
    "\n",
    "    for person in people:\n",
    "        name=person[\"name\"]\n",
    "        if search_name in name.lower():\n",
    "            results.append(person)\n",
    "        \n",
    "        \n",
    "    \n",
    "\n",
    "print(\"Hi, welcome to the Contact Management System.\\n\")\n",
    "\n",
    "while True:\n",
    "    command = input(\"You can 'add', 'delete', 'search', or 'q' to quit: \").lower()\n",
    "\n",
    "    if command == \"add\":\n",
    "        person = add_person()\n",
    "        people.append(person)\n",
    "        print(\"Person added!\")\n",
    "\n",
    "    elif command == \"delete\":\n",
    "        delete_contact(people)\n",
    "        \n",
    "\n",
    "    elif command == \"search\":\n",
    "        search(peoplee)\n",
    "\n",
    "    elif command == \"q\":\n",
    "        break\n",
    "\n",
    "    else:\n",
    "        print(\"Invalid command.\")\n",
    "\n",
    "print(\"\\nFinal contact list:\")\n",
    "print(people)\n"
   ]
  },
  {
   "cell_type": "code",
   "execution_count": null,
   "id": "1386c616-8c08-4a82-b08a-848a851d5a4a",
   "metadata": {},
   "outputs": [],
   "source": []
  }
 ],
 "metadata": {
  "kernelspec": {
   "display_name": "Python 3 (ipykernel)",
   "language": "python",
   "name": "python3"
  },
  "language_info": {
   "codemirror_mode": {
    "name": "ipython",
    "version": 3
   },
   "file_extension": ".py",
   "mimetype": "text/x-python",
   "name": "python",
   "nbconvert_exporter": "python",
   "pygments_lexer": "ipython3",
   "version": "3.11.7"
  }
 },
 "nbformat": 4,
 "nbformat_minor": 5
}
